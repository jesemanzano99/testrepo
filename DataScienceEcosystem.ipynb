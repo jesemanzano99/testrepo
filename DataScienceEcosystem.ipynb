{
  "metadata": {
    "kernelspec": {
      "name": "python",
      "display_name": "Python (Pyodide)",
      "language": "python"
    },
    "language_info": {
      "codemirror_mode": {
        "name": "python",
        "version": 3
      },
      "file_extension": ".py",
      "mimetype": "text/x-python",
      "name": "python",
      "nbconvert_exporter": "python",
      "pygments_lexer": "ipython3",
      "version": "3.8"
    }
  },
  "nbformat_minor": 4,
  "nbformat": 4,
  "cells": [
    {
      "cell_type": "markdown",
      "source": "# Data Science Tools and Ecosystem",
      "metadata": {}
    },
    {
      "cell_type": "markdown",
      "source": "#### In this notebook, Data Science Tools and Ecosystem are summarized.",
      "metadata": {}
    },
    {
      "cell_type": "markdown",
      "source": "###### **Objectives:**\n\n- Some of the popular languages that Data Scientists use.\n- Some of the commonly used libraries used by Data Scientists.\n- Some Data Science Tools.",
      "metadata": {}
    },
    {
      "cell_type": "markdown",
      "source": "##### Some of the popular languages that Data Scientists use are:\n1. Python: Widely used for its extensive libraries (e.g., Pandas, NumPy, Scikit-learn) and ease of integration with other tools and platforms.\n2. R: Popular for statistical analysis and data visualization, with a rich ecosystem of packages (e.g., ggplot2, dplyr).\n3. SQL: Essential for querying and managing data in relational databases.",
      "metadata": {}
    },
    {
      "cell_type": "markdown",
      "source": "##### Some of the commonly used libraries used by Data Scientists include:\n1. Pandas (Python): For data manipulation and analysis, particularly for handling tabular data.\n2. NumPy (Python): For numerical computations and handling large multi-dimensional arrays and matrices.\n3. Scikit-learn (Python): For machine learning algorithms and data preprocessing.",
      "metadata": {}
    },
    {
      "cell_type": "markdown",
      "source": "##### Data Science Tools\n\n\n| Data Science Tools|\n| -------------|\n| Jupyter Notebook|\n| RStudio | \n| Visual Studio Code | \n",
      "metadata": {}
    },
    {
      "cell_type": "markdown",
      "source": "### Below are a few examples of evaluating arithmetic expressions in Python.\n- 5*3\n- 5/3\n- 5+3\n- 5-3\n",
      "metadata": {}
    },
    {
      "cell_type": "code",
      "source": "# This a simple arithmetic expression to mutiply then add integers.\n(3*4)+5",
      "metadata": {
        "trusted": true
      },
      "outputs": [
        {
          "execution_count": 2,
          "output_type": "execute_result",
          "data": {
            "text/plain": "17"
          },
          "metadata": {}
        }
      ],
      "execution_count": 2
    },
    {
      "cell_type": "code",
      "source": "# This will convert 200 minutes to hours by diving by 60.\nprint(200/60,\"hrs\")\n",
      "metadata": {
        "trusted": true
      },
      "outputs": [
        {
          "name": "stdout",
          "text": "3.3333333333333335 hrs\n",
          "output_type": "stream"
        }
      ],
      "execution_count": 8
    },
    {
      "cell_type": "code",
      "source": "",
      "metadata": {
        "trusted": true
      },
      "outputs": [],
      "execution_count": null
    },
    {
      "cell_type": "code",
      "source": "",
      "metadata": {
        "trusted": true
      },
      "outputs": [],
      "execution_count": null
    }
  ]
}